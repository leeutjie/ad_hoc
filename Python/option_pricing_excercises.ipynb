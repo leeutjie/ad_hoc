{
 "cells": [
  {
   "cell_type": "code",
   "execution_count": 4,
   "metadata": {},
   "outputs": [],
   "source": [
    "import math\n",
    "from statistics import NormalDist\n"
   ]
  },
  {
   "cell_type": "markdown",
   "metadata": {},
   "source": [
    "# Option Pricing Exercises"
   ]
  },
  {
   "cell_type": "markdown",
   "metadata": {},
   "source": [
    "## Black Scholes Option Pricing Formula\n",
    "\n",
    "[Black and Scholes (1973)](https://www.cs.princeton.edu/courses/archive/fall09/cos323/papers/black_scholes73.pdf) derive a formula that can be used to value a *European* option that does **not** pay dividends before the option's expiration \n",
    "date:\n",
    "\n",
    "Let \n",
    "\n",
    "+ $S$ = Stock Price\n",
    "+ $X$ = Strike/Exercise Price\n",
    "+ $r$ = Risk Free Rate \n",
    "+ $T$ = Time to expiration in years\n",
    "+ $\\sigma$ = Volatility of the relative price change of the underlying stock price\n",
    "+ $N(x)$ = The [cumulative normal distribution function](https://statproofbook.github.io/P/norm-cdf.html)\n",
    "\n",
    "Then\n",
    "$$c = SN(d_{1})-Xe^{-rT}N(d_{2})$$\n",
    "$$p = Xe^{-rT}N(-d_{2})-SN(-d_{1})$$\n",
    "\n",
    "Where\n",
    "\n",
    "\n",
    "$$d_{1} = \\frac{ln(\\frac{S}{X}) + (\\frac{r+\\sigma^{2}}{2})T}{\\sigma\\sqrt{T}}$$\n",
    "$$d_{2} = \\frac{ln(\\frac{S}{X}) + (\\frac{r-\\sigma^{2}}{2})T}{\\sigma\\sqrt{T}} = d_{1} -\\sigma\\sqrt{T}$$\n",
    "\n"
   ]
  },
  {
   "cell_type": "code",
   "execution_count": 5,
   "metadata": {},
   "outputs": [],
   "source": [
    "# Formula\n",
    "\n",
    "def price_bs_euro_option_(S, X, r, sigma, T, type='c'):\n",
    "\n",
    "    d1 = (math.log(S/X) + (r + sigma**2)/2*T) / sigma * T**0.5\n",
    "    d2 = d1 - sigma * T**0.5\n",
    "\n",
    "    if type == 'c':\n",
    "        return S * NormalDist().cdf(d1) - X * math.exp(-r*T) * NormalDist(d2)\n",
    "\n",
    "    elif type == 'p':\n",
    "        return X * math.exp(-r*T) * NormalDist(-d2) - S * NormalDist(-d1)\n",
    "\n",
    "# Alternatively\n",
    "def price_bs_euro_option(spot, strike, rf_rate, vol, ttmy, type='c'):\n",
    "\n",
    "    d1 = (math.log(spot/strike) + (rf_rate + vol**2/2)*ttmy) / (vol*ttmy**0.5)\n",
    "    d2 = d1 - vol * ttmy**0.5\n",
    "\n",
    "    if type == 'c':\n",
    "\n",
    "        return spot * NormalDist().cdf(x=d1) - strike * math.exp(-rf_rate*ttmy) * NormalDist().cdf(x=d2)\n",
    "\n",
    "    elif type == 'p':\n",
    "\n",
    "        return strike * math.exp(-rf_rate*ttmy) * NormalDist().cdf(-d2) - spot * NormalDist().cdf(-d1)\n"
   ]
  },
  {
   "cell_type": "markdown",
   "metadata": {},
   "source": [
    "Let's consider the following scenario:\n",
    "\n",
    "- European option \n",
    "- 3 months to expiry, therfore $\\frac{3}{12} = 0.25$ because we measure in years\n",
    "- Stock(spot) price = R60.00\n",
    "- Strike price = R65.00\n",
    "- Risk free rate = 8% p.a.\n",
    "- Volatility = 30%\n",
    "\n",
    "This is calculated as follows:"
   ]
  },
  {
   "cell_type": "code",
   "execution_count": 6,
   "metadata": {},
   "outputs": [
    {
     "data": {
      "text/plain": [
       "2.133368444916197"
      ]
     },
     "execution_count": 6,
     "metadata": {},
     "output_type": "execute_result"
    }
   ],
   "source": [
    "price_bs_euro_option(spot=60, strike=65, rf_rate=0.08,\n",
    "                  ttmy=0.25, vol=0.3, type='c')\n"
   ]
  },
  {
   "cell_type": "markdown",
   "metadata": {},
   "source": [
    "## Options on Stock Indices\n",
    "\n",
    "[Merton (1973)](http://polymer.bu.edu/hes/merton73py538.pdf) extended the Black-Scholes model to allow for a continuous dividend yield. This model can price European put/call options on a stock (or stock index) paying a known dividend yield, $q$. This implies the addition of a $e^{-qT}$ term to the put and call equations from earlier:\n",
    "\n",
    "$$c = Se^{-qT}N(d_{1})-Xe^{-rT}N(d_{2})$$\n",
    "$$p = Xe^{-rT}N(-d_{2})-Se^{-qT}N(-d_{1})$$\n",
    "Where $d_1$ and $d_2$ are now\n",
    "\n",
    "$$d_{1} = \\frac{ln(\\frac{S}{X}) + (r-q+\\frac{\\sigma^{2}}{2})T}{\\sigma\\sqrt{T}}$$\n",
    "\n",
    "$$d_{2} = \\frac{ln(\\frac{S}{X}) + (r-q-\\frac{\\sigma^{2}}{2})T}{\\sigma\\sqrt{T}} = d_{1} -\\sigma\\sqrt{T}$$"
   ]
  },
  {
   "cell_type": "code",
   "execution_count": 7,
   "metadata": {},
   "outputs": [],
   "source": [
    "def price_bsm_euro_option(spot, strike, rf_rate, vol, ttmy, div_yield, type='c'):\n",
    "\n",
    "    d1 = (math.log(spot/strike) + (rf_rate - div_yield   + vol**2/2)*ttmy) / (vol*ttmy**0.5)\n",
    "    d2 = d1 - vol * ttmy**0.5\n",
    "\n",
    "    if type == 'c':\n",
    "\n",
    "        return spot * math.exp(-div_yield*ttmy) * NormalDist().cdf(x=d1) - strike * math.exp(-rf_rate*ttmy) * NormalDist().cdf(x=d2)\n",
    "\n",
    "    elif type == 'p':\n",
    "\n",
    "        return strike * math.exp(-rf_rate*ttmy) * NormalDist().cdf(-d2) - spot * math.exp(-div_yield*ttmy) * NormalDist().cdf(-d1)"
   ]
  },
  {
   "cell_type": "markdown",
   "metadata": {},
   "source": [
    "Let's consider the following scenario:\n",
    "\n",
    "- European option \n",
    "- 6 months to expiry, therefore $\\frac{6}{12} = 0.5$ because we measure in years\n",
    "- Stock(spot) price = R100.00\n",
    "- Strike price = R95.00\n",
    "- Risk free rate = 10% p.a.\n",
    "- Volatility = 20% p.a.\n",
    "\n",
    "This is calculated as follows:"
   ]
  },
  {
   "cell_type": "code",
   "execution_count": 8,
   "metadata": {},
   "outputs": [
    {
     "data": {
      "text/plain": [
       "2.4647876467558234"
      ]
     },
     "execution_count": 8,
     "metadata": {},
     "output_type": "execute_result"
    }
   ],
   "source": [
    "price_bsm_euro_option(\n",
    "  spot = 100,\n",
    "  strike = 95,\n",
    "  rf_rate = 0.1,\n",
    "  ttmy = 0.5,\n",
    "  div_yield = 0.05,\n",
    "  vol = 0.2,\n",
    "  type = \"p\"\n",
    ")"
   ]
  },
  {
   "cell_type": "markdown",
   "metadata": {},
   "source": [
    "## Options on Futures\n",
    "\n",
    "The formula from [Black (1973)](https://www.sciencedirect.com/science/article/abs/pii/0304405X76900246) provides the price of a European option when the underlying security is a forward or futures contract with an initial price, $F$:\n",
    "\n",
    "$$c = e^{-rT}[FN(d_{1})-XN(d_{2})]$$\n",
    "$$p = e^{-rT}[XN(-d_{2})-FN(-d_{1})]$$\n",
    "Where\n",
    "\n",
    "$$d_{1} = \\frac{ln(\\frac{F}{X}) + (\\frac{\\sigma^{2}}{2})T}{\\sigma\\sqrt{T}}$$\n",
    "$$d_{2} = \\frac{ln(\\frac{F}{X}) - (\\frac{\\sigma^{2}}{2})T}{\\sigma\\sqrt{T}} = d_{1} -\\sigma\\sqrt{T}$$"
   ]
  },
  {
   "cell_type": "code",
   "execution_count": 9,
   "metadata": {},
   "outputs": [],
   "source": [
    "def price_futures_euro_option(spot, strike, rf_rate, vol, ttmy, type='c'):\n",
    "\n",
    "    d1 = (math.log(spot/strike) + (vol**2/2)*ttmy) / (vol*ttmy**0.5)\n",
    "    d2 = d1 - vol * ttmy**0.5\n",
    "\n",
    "    if type == 'c':\n",
    "\n",
    "        return math.exp(-rf_rate*ttmy) * (spot * NormalDist().cdf(x=d1) - strike * NormalDist().cdf(x=d2))\n",
    "\n",
    "    elif type == 'p':\n",
    "\n",
    "        return math.exp(-rf_rate*ttmy) * (strike * NormalDist().cdf(-d2) - spot * NormalDist().cdf(-d1))"
   ]
  },
  {
   "cell_type": "markdown",
   "metadata": {},
   "source": [
    "Let's consider the following scenario:\n",
    "\n",
    "- A European _call_ option on [Brent Blend](https://www.investopedia.com/terms/b/brentblend.asp) futures\n",
    "- 9 months to expiry, therefore $\\frac{9}{12} = 0.75$ because we measure in years\n",
    "- Futures(spot) price = R19.00\n",
    "- Strike price = R19.00\n",
    "- Risk free rate = 10% p.a.\n",
    "- Volatility = 28% p.a.\n",
    "\n",
    "This is calculated as follows:"
   ]
  },
  {
   "cell_type": "code",
   "execution_count": 11,
   "metadata": {},
   "outputs": [
    {
     "data": {
      "text/plain": [
       "1.701050725236268"
      ]
     },
     "execution_count": 11,
     "metadata": {},
     "output_type": "execute_result"
    }
   ],
   "source": [
    "price_futures_euro_option(\n",
    "  spot = 19,\n",
    "  strike = 19,\n",
    "  rf_rate = 0.1,\n",
    "  ttmy = 0.75,\n",
    "  vol = 0.28,\n",
    "  type = \"c\"\n",
    ")"
   ]
  },
  {
   "cell_type": "code",
   "execution_count": 12,
   "metadata": {},
   "outputs": [
    {
     "data": {
      "text/plain": [
       "1.701050725236268"
      ]
     },
     "execution_count": 12,
     "metadata": {},
     "output_type": "execute_result"
    }
   ],
   "source": [
    "price_futures_euro_option(\n",
    "  spot = 19,\n",
    "  strike = 19,\n",
    "  rf_rate = 0.1,\n",
    "  ttmy = 0.75,\n",
    "  vol = 0.28,\n",
    "  type = \"p\"\n",
    ")"
   ]
  }
 ],
 "metadata": {
  "anaconda-cloud": {},
  "kernelspec": {
   "display_name": "Python 3",
   "language": "python",
   "name": "python3"
  },
  "language_info": {
   "codemirror_mode": {
    "name": "ipython",
    "version": 3
   },
   "file_extension": ".py",
   "mimetype": "text/x-python",
   "name": "python",
   "nbconvert_exporter": "python",
   "pygments_lexer": "ipython3",
   "version": "3.10.1"
  }
 },
 "nbformat": 4,
 "nbformat_minor": 1
}
