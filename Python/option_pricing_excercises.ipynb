{
 "cells": [
  {
   "cell_type": "code",
   "execution_count": 62,
   "metadata": {},
   "outputs": [],
   "source": [
    "import math\n",
    "from statistics import NormalDist\n"
   ]
  },
  {
   "cell_type": "markdown",
   "metadata": {},
   "source": [
    "# Option Pricing Exercises"
   ]
  },
  {
   "cell_type": "markdown",
   "metadata": {},
   "source": [
    "## Black Scholes Option Pricing Formula\n",
    "\n",
    "[Black and Scholes (1973)](https://www.cs.princeton.edu/courses/archive/fall09/cos323/papers/black_scholes73.pdf) derive a formula that can be used to value a *European* option that does **not** pay dividends before the option's expiration \n",
    "date:\n",
    "\n",
    "Let \n",
    "\n",
    "+ $S$ = Stock Price\n",
    "+ $X$ = Strike/Exercise Price\n",
    "+ $r$ = Risk Free Rate \n",
    "+ $T$ = Time to expiration in years\n",
    "+ $\\sigma$ = Volatility of the relative price change of the underlying stock price\n",
    "+ $N(x)$ = The [cumulative normal distribution function](https://statproofbook.github.io/P/norm-cdf.html)\n",
    "\n",
    "Then\n",
    "$$c = SN(d_{1})-Xe^{-rT}N(d_{2})$$\n",
    "$$p = Xe^{-rT}N(-d_{2})-SN(-d_{1})$$\n",
    "\n",
    "Where\n",
    "\n",
    "\n",
    "$$d_{1} = \\frac{ln(\\frac{S}{X}) + (\\frac{r+\\sigma^{2}}{2})T}{\\sigma\\sqrt{T}}$$\n",
    "$$d_{2} = \\frac{ln(\\frac{S}{X}) + (\\frac{r-\\sigma^{2}}{2})T}{\\sigma\\sqrt{T}} = d_{1} -\\sigma\\sqrt{T}$$\n",
    "\n"
   ]
  },
  {
   "cell_type": "code",
   "execution_count": 80,
   "metadata": {},
   "outputs": [],
   "source": [
    "# Formula\n",
    "\n",
    "def price_euro_option_(S, X, r, sigma, T, type='c'):\n",
    "\n",
    "    d1 = (math.log(S/X) + (r + sigma**2)/2*T) / sigma * T**0.5\n",
    "    d2 = d1 - sigma * T**0.5\n",
    "\n",
    "    if type == 'c':\n",
    "        return S * NormalDist().cdf(d1) - X * math.exp(-r*T) * NormalDist(d2)\n",
    "\n",
    "    elif type == 'p':\n",
    "        return X * math.exp(-r*T) * NormalDist(-d2) - S * NormalDist(-d1)\n",
    "\n",
    "# Alternatively\n",
    "\n",
    "\n",
    "def price_euro_option(spot, strike, rf_rate, vol, ttmy, type='c'):\n",
    "\n",
    "    d1 = (math.log(spot/strike) + (rf_rate + vol**2/2)*ttmy) / (vol*ttmy**0.5)\n",
    "    d2 = d1 - vol * ttmy**0.5\n",
    "\n",
    "    if type == 'c':\n",
    "\n",
    "        return spot * NormalDist().cdf(x=d1) - strike * math.exp(-rf_rate*ttmy) * NormalDist().cdf(x=d2)\n",
    "\n",
    "    elif type == 'p':\n",
    "\n",
    "        return strike * math.exp(-rf_rate*ttmy) * NormalDist().cdf(-d2) - spot * NormalDist().cdf(-d1)\n"
   ]
  },
  {
   "cell_type": "markdown",
   "metadata": {},
   "source": [
    "Let's consider the following scenario:\n",
    "\n",
    "- European option \n",
    "- 3 months to expiry, therfore $\\frac{3}{12} = 0.25$ because we measure in years\n",
    "- Stock(spot) price = R60.00\n",
    "- Strike price = R65.00\n",
    "- Risk free rate = 8% p.a.\n",
    "- Volatility = 30%\n",
    "\n",
    "This is calculated as follows:"
   ]
  },
  {
   "cell_type": "code",
   "execution_count": 81,
   "metadata": {},
   "outputs": [
    {
     "data": {
      "text/plain": [
       "2.133368444916197"
      ]
     },
     "execution_count": 81,
     "metadata": {},
     "output_type": "execute_result"
    }
   ],
   "source": [
    "price_euro_option(spot=60, strike=65, rf_rate=0.08,\n",
    "                  ttmy=0.25, vol=0.3, type='c')\n"
   ]
  },
  {
   "cell_type": "markdown",
   "metadata": {},
   "source": [
    "## Options on Stock Indices\n",
    "\n",
    "[Merton (1973)](http://polymer.bu.edu/hes/merton73py538.pdf) extended the Black-Scholes model to allow for a continuous dividend yield. This model can price European put/call options on a stock (or stock index) paying a known dividend yield, $q$. This implies the addition of a $e^{-qT}$ term to the put and call equations from earlier:\n",
    "\n",
    "$$c = Se^{-qT}N(d_{1})-Xe^{-rT}N(d_{2})$$\n",
    "$$p = Xe^{-rT}N(-d_{2})-Se^{-qT}N(-d_{1})$$\n",
    "Where $d_1$ and $d_2$ are now\n",
    "\n",
    "$$d_{1} = \\frac{ln(\\frac{S}{X}) + (r-q+\\frac{\\sigma^{2}}{2})T}{\\sigma\\sqrt{T}}$$\n",
    "\n",
    "$$d_{2} = \\frac{ln(\\frac{S}{X}) + (r-q-\\frac{\\sigma^{2}}{2})T}{\\sigma\\sqrt{T}} = d_{1} -\\sigma\\sqrt{T}$$"
   ]
  }
 ],
 "metadata": {
  "anaconda-cloud": {},
  "kernelspec": {
   "display_name": "Python 3",
   "language": "python",
   "name": "python3"
  },
  "language_info": {
   "codemirror_mode": {
    "name": "ipython",
    "version": 3
   },
   "file_extension": ".py",
   "mimetype": "text/x-python",
   "name": "python",
   "nbconvert_exporter": "python",
   "pygments_lexer": "ipython3",
   "version": "3.10.1"
  }
 },
 "nbformat": 4,
 "nbformat_minor": 1
}
